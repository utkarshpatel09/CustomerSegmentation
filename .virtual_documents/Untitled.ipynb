# customer_segmentation.py

import pandas as pd
import matplotlib.pyplot as plt
import seaborn as sns
from sklearn.preprocessing import StandardScaler
from sklearn.cluster import KMeans
from sklearn.metrics import silhouette_score

# Load data
data = pd.read_csv('data/retail_data.csv')  # Make sure your file is in this path

# Basic preprocessing
features = ['Annual_Spend', 'Visit_Frequency', 'Product_Variety']
X = data[features]
X_scaled = StandardScaler().fit_transform(X)

# Elbow method to find optimal clusters
sse = []
for k in range(1, 11):
    kmeans = KMeans(n_clusters=k, random_state=42)
    kmeans.fit(X_scaled)
    sse.append(kmeans.inertia_)

plt.plot(range(1, 11), sse, marker='o')
plt.title('Elbow Method')
plt.xlabel('Number of clusters')
plt.ylabel('SSE')
plt.show()

# Apply KMeans with chosen k (e.g., k=4)
kmeans = KMeans(n_clusters=4, random_state=42)
data['Cluster'] = kmeans.fit_predict(X_scaled)

# Visualize clusters
sns.scatterplot(x='Annual_Spend', y='Visit_Frequency', hue='Cluster', data=data, palette='Set2')
plt.title('Customer Segmentation')
plt.show()



